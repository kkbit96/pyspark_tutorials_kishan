{
 "cells": [
  {
   "cell_type": "code",
   "execution_count": null,
   "id": "bdf3eb1f-939a-4740-8ac1-d8637f0715ac",
   "metadata": {},
   "outputs": [],
   "source": [
    "from pyspark.python.pyspark.shell import spark\n",
    "from pyspark.sql import SparkSession\n",
    "from datetime import datetime, date\n",
    "from pyspark.sql.types import *\n",
    "import pyspark.sql.functions as F\n",
    "import os\n",
    "import sys\n",
    "import json\n",
    "from uuid import uuid4\n",
    "from pyspark.sql import Row\n",
    "from pyspark.sql.functions import col\n"
   ]
  },
  {
   "cell_type": "code",
   "execution_count": 3,
   "id": "ff32f291-63cb-491a-b20a-cd307613b140",
   "metadata": {},
   "outputs": [
    {
     "ename": "NameError",
     "evalue": "name 'SparkSession' is not defined",
     "output_type": "error",
     "traceback": [
      "\u001b[1;31m---------------------------------------------------------------------------\u001b[0m",
      "\u001b[1;31mNameError\u001b[0m                                 Traceback (most recent call last)",
      "Cell \u001b[1;32mIn[3], line 1\u001b[0m\n\u001b[1;32m----> 1\u001b[0m spark \u001b[38;5;241m=\u001b[39m SparkSession\u001b[38;5;241m.\u001b[39mbuilder\u001b[38;5;241m.\u001b[39mappName(\u001b[38;5;124m'\u001b[39m\u001b[38;5;124mSession1\u001b[39m\u001b[38;5;124m'\u001b[39m)\u001b[38;5;241m.\u001b[39mgetOrCreate()\n\u001b[0;32m      2\u001b[0m data \u001b[38;5;241m=\u001b[39m [(\u001b[38;5;124m\"\u001b[39m\u001b[38;5;124mJames\u001b[39m\u001b[38;5;124m\"\u001b[39m, \u001b[38;5;124m\"\u001b[39m\u001b[38;5;124mWan\u001b[39m\u001b[38;5;124m\"\u001b[39m, \u001b[38;5;241m24\u001b[39m, \u001b[38;5;124m\"\u001b[39m\u001b[38;5;124mNew York\u001b[39m\u001b[38;5;124m\"\u001b[39m), (\u001b[38;5;124m\"\u001b[39m\u001b[38;5;124mAnn\u001b[39m\u001b[38;5;124m\"\u001b[39m, \u001b[38;5;124m\"\u001b[39m\u001b[38;5;124mHathaway\u001b[39m\u001b[38;5;124m\"\u001b[39m, \u001b[38;5;241m28\u001b[39m, \u001b[38;5;124m\"\u001b[39m\u001b[38;5;124mToronto\u001b[39m\u001b[38;5;124m\"\u001b[39m)]\n\u001b[0;32m      3\u001b[0m columns \u001b[38;5;241m=\u001b[39m [\u001b[38;5;124m\"\u001b[39m\u001b[38;5;124mfirstname\u001b[39m\u001b[38;5;124m\"\u001b[39m, \u001b[38;5;124m\"\u001b[39m\u001b[38;5;124mlastname\u001b[39m\u001b[38;5;124m\"\u001b[39m, \u001b[38;5;124m\"\u001b[39m\u001b[38;5;124mage\u001b[39m\u001b[38;5;124m\"\u001b[39m, \u001b[38;5;124m\"\u001b[39m\u001b[38;5;124mcity\u001b[39m\u001b[38;5;124m\"\u001b[39m]\n",
      "\u001b[1;31mNameError\u001b[0m: name 'SparkSession' is not defined"
     ]
    }
   ],
   "source": [
    "spark = SparkSession.builder.appName('Session1').getOrCreate()\n",
    "data = [(\"James\", \"Wan\", 24, \"New York\"), (\"Ann\", \"Hathaway\", 28, \"Toronto\")]\n",
    "columns = [\"firstname\", \"lastname\", \"age\", \"city\"]\n",
    "df23 = spark.createDataFrame(data, schema=columns)\n",
    "df24 = df23.select(F.col(\"firstname\"), F.col(\"age\"))\n",
    "df25 = df23.select(F.col(\"firstname\"), F.col(\"lastname\"), F.col(\"age\"), F.col(\"city\"),\n",
    "                   F.concat(F.col(\"firstname\"), F.lit(\", \"), F.col(\"lastname\")).alias(\n",
    "                       \"fullname\"))  # try using F.concat to add two columns\n",
    "cols = [\"firstname\", \"lastname\", \"age\", \"city\"]\n",
    "df26 = df23.select(*[col(col_name) for col_name in cols])\n",
    "df26.show()\n"
   ]
  },
  {
   "cell_type": "code",
   "execution_count": null,
   "id": "8e5f1cd8-646e-4165-8912-6cb95af36c94",
   "metadata": {},
   "outputs": [],
   "source": []
  },
  {
   "cell_type": "code",
   "execution_count": null,
   "id": "e426b2f5-0a2f-4c31-8aef-752490442527",
   "metadata": {},
   "outputs": [],
   "source": []
  }
 ],
 "metadata": {
  "kernelspec": {
   "display_name": "Python 3 (ipykernel)",
   "language": "python",
   "name": "python3"
  },
  "language_info": {
   "codemirror_mode": {
    "name": "ipython",
    "version": 3
   },
   "file_extension": ".py",
   "mimetype": "text/x-python",
   "name": "python",
   "nbconvert_exporter": "python",
   "pygments_lexer": "ipython3",
   "version": "3.11.7"
  }
 },
 "nbformat": 4,
 "nbformat_minor": 5
}
